{
 "cells": [
  {
   "cell_type": "markdown",
   "metadata": {},
   "source": [
    "# Dashscope兼容OpenAI的测试文件\n",
    "<hr />"
   ]
  },
  {
   "cell_type": "code",
   "execution_count": 13,
   "metadata": {},
   "outputs": [
    {
     "name": "stdout",
     "output_type": "stream",
     "text": [
      "{\n",
      "  \"choices\": [\n",
      "    {\n",
      "      \"message\": {\n",
      "        \"role\": \"assistant\",\n",
      "        \"content\": \"\\u6211\\u662f\\u6765\\u81ea\\u963f\\u91cc\\u4e91\\u7684\\u5927\\u89c4\\u6a21\\u8bed\\u8a00\\u6a21\\u578b\\uff0c\\u6211\\u53eb\\u901a\\u4e49\\u5343\\u95ee\\u3002\"\n",
      "      },\n",
      "      \"finish_reason\": \"stop\",\n",
      "      \"index\": 0,\n",
      "      \"logprobs\": null\n",
      "    }\n",
      "  ],\n",
      "  \"object\": \"chat.completion\",\n",
      "  \"usage\": {\n",
      "    \"prompt_tokens\": 22,\n",
      "    \"completion_tokens\": 16,\n",
      "    \"total_tokens\": 38\n",
      "  },\n",
      "  \"created\": 1720286009,\n",
      "  \"system_fingerprint\": null,\n",
      "  \"model\": \"qwen-plus\",\n",
      "  \"id\": \"chatcmpl-98229aed-f832-95f1-8d27-d068400ec3c2\"\n",
      "}\n"
     ]
    }
   ],
   "source": [
    "import openai\n",
    "import os\n",
    "\n",
    "def get_response():\n",
    "    api_key = os.getenv(\"DASHSCOPE_API_KEY\")  # 确保你的环境变量已正确加载\n",
    "    if not api_key:\n",
    "        raise ValueError(\"DASHSCOPE_API_KEY is not set in the environment variables.\")\n",
    "    \n",
    "    openai.api_base = \"https://dashscope.aliyuncs.com/compatible-mode/v1\"\n",
    "    openai.api_key = api_key\n",
    "\n",
    "    try:\n",
    "        response = openai.ChatCompletion.create(\n",
    "            model=\"qwen-plus\",\n",
    "            messages=[\n",
    "                {'role': 'system', 'content': 'You are a helpful assistant.'},\n",
    "                {'role': 'user', 'content': '你是谁？'}\n",
    "            ]\n",
    "        )\n",
    "        print(response)\n",
    "    except openai.error.OpenAIError as e:\n",
    "        print(f\"An error occurred: {e}\")\n",
    "\n",
    "if __name__ == '__main__':\n",
    "    get_response()\n"
   ]
  }
 ],
 "metadata": {
  "kernelspec": {
   "display_name": "Python 3",
   "language": "python",
   "name": "python3"
  },
  "language_info": {
   "codemirror_mode": {
    "name": "ipython",
    "version": 3
   },
   "file_extension": ".py",
   "mimetype": "text/x-python",
   "name": "python",
   "nbconvert_exporter": "python",
   "pygments_lexer": "ipython3",
   "version": "3.12.1"
  }
 },
 "nbformat": 4,
 "nbformat_minor": 2
}
