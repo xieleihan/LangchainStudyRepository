{
 "cells": [
  {
   "cell_type": "markdown",
   "metadata": {},
   "source": [
    "用prompts模板调教LLM的输入出"
   ]
  },
  {
   "cell_type": "code",
   "execution_count": 1,
   "metadata": {},
   "outputs": [
    {
     "data": {
      "text/plain": [
       "'请帮我生成一个具有中国特色的名字'"
      ]
     },
     "execution_count": 1,
     "metadata": {},
     "output_type": "execute_result"
    }
   ],
   "source": [
    "from langchain.prompts import PromptTemplate\n",
    "\n",
    "prompt = PromptTemplate.from_template(\"请帮我生成一个具有{country}特色的名字\")\n",
    "prompt.format(country=\"中国\")"
   ]
  },
  {
   "cell_type": "markdown",
   "metadata": {},
   "source": [
    "OK,上面的结果出来的,但是,刚才说了prompt的模版,就是我们希望让AI知道自己的身份,它需要帮我们做什么这样的\n",
    "所以根据上面的,我们需要对输入进去的问题进行修改"
   ]
  },
  {
   "cell_type": "code",
   "execution_count": 2,
   "metadata": {},
   "outputs": [
    {
     "name": "stdout",
     "output_type": "stream",
     "text": [
      "你是一个算命大师,请你帮我生成一个具有中国特色的男的名字\n"
     ]
    }
   ],
   "source": [
    "from langchain.prompts import PromptTemplate\n",
    "\n",
    "prompt = PromptTemplate.from_template(\"你是一个{name},请你帮我生成一个具有{country}特色的{sex}的名字\")\n",
    "print(prompt.format(name=\"算命大师\", country=\"中国\", sex=\"男\"))"
   ]
  },
  {
   "cell_type": "markdown",
   "metadata": {},
   "source": [
    "可以看到字符模版就是上面那种,然后处理方式有LLM,还有另一个就是chatmodels,就是对话模版"
   ]
  },
  {
   "cell_type": "code",
   "execution_count": 7,
   "metadata": {},
   "outputs": [
    {
     "data": {
      "text/plain": [
       "[SystemMessage(content='你是一个起名大师,你的名字叫mldys.'),\n",
       " HumanMessage(content='你好mldys,你感觉怎么样'),\n",
       " AIMessage(content='你好!我现在状态非常好'),\n",
       " HumanMessage(content='你叫什么名字呢?')]"
      ]
     },
     "execution_count": 7,
     "metadata": {},
     "output_type": "execute_result"
    }
   ],
   "source": [
    "# 对话模版具有结构,chatmodels\n",
    "# 首先导入模块\n",
    "from langchain.prompts import ChatPromptTemplate\n",
    "\n",
    "# 一个结构模版  system,human,ai,user_input\n",
    "chat_template = ChatPromptTemplate.from_messages([\n",
    "    (\"system\", \"你是一个起名大师,你的名字叫{name}.\"),\n",
    "    (\"human\", \"你好{name},你感觉怎么样\"),\n",
    "    (\"ai\",\"你好!我现在状态非常好\"),\n",
    "    (\"human\",\"{user_input}\"),\n",
    "])\n",
    "\n",
    "# 如果我们按照上面的试试\n",
    "# prompt.format(name=\"mldys\",user_input=\"你叫什么名字呢?\")\n",
    "# 出来的结果就不是我们想要的\n",
    "# 所以这里要换一个chatmodels里的一个,chat_template.format_messages方法\n",
    "chat_template.format_messages(name=\"mldys\",user_input=\"你叫什么名字呢?\")"
   ]
  },
  {
   "cell_type": "markdown",
   "metadata": {},
   "source": [
    "就是除了上面的方式,其实langchain还有另一个信息模版的模块\n",
    "就是对应的例如\n",
    "SystemMessage, HumanMessage, AIMessage"
   ]
  },
  {
   "cell_type": "code",
   "execution_count": 10,
   "metadata": {},
   "outputs": [
    {
     "data": {
      "text/plain": [
       "SystemMessage(content='你是一个起名大师', additional_kwargs={'大师姓名': '女大学生'})"
      ]
     },
     "execution_count": 10,
     "metadata": {},
     "output_type": "execute_result"
    }
   ],
   "source": [
    "# 还是第一步导入模块\n",
    "from langchain.schema import SystemMessage\n",
    "from langchain.schema import HumanMessage\n",
    "from langchain.schema import AIMessage\n",
    "\n",
    "# 直接创建消息\n",
    "SystemMessage(\n",
    "    content=\"你是一个起名大师\",\n",
    "    # additional_kwargs 附加参数\n",
    "    additional_kwargs={\n",
    "        \"大师姓名\": \"女大学生\"\n",
    "        # 这里我在写的时候看到植物大战僵尸杂交版更新了,就随便起的\n",
    "    }\n",
    ")\n",
    "\n",
    "# HumanMessage(\n",
    "#     content= \"请问大师叫什么\"\n",
    "# )\n",
    "\n",
    "# AIMessage(\n",
    "#     content=\"我是女大学生\"\n",
    "# )"
   ]
  },
  {
   "cell_type": "code",
   "execution_count": 11,
   "metadata": {},
   "outputs": [
    {
     "data": {
      "text/plain": [
       "HumanMessage(content='请问大师叫什么')"
      ]
     },
     "execution_count": 11,
     "metadata": {},
     "output_type": "execute_result"
    }
   ],
   "source": [
    "from langchain.schema import SystemMessage\n",
    "from langchain.schema import HumanMessage\n",
    "from langchain.schema import AIMessage\n",
    "\n",
    "# 直接创建消息\n",
    "# SystemMessage(\n",
    "#     content=\"你是一个起名大师\",\n",
    "#     # additional_kwargs 附加参数\n",
    "#     additional_kwargs={\n",
    "#         \"大师姓名\": \"女大学生\"\n",
    "#     }\n",
    "# )\n",
    "\n",
    "HumanMessage(\n",
    "    content= \"请问大师叫什么\"\n",
    ")\n",
    "\n",
    "# AIMessage(\n",
    "#     content=\"我是女大学生\"\n",
    "# )"
   ]
  },
  {
   "cell_type": "code",
   "execution_count": 12,
   "metadata": {},
   "outputs": [
    {
     "data": {
      "text/plain": [
       "AIMessage(content='我是女大学生')"
      ]
     },
     "execution_count": 12,
     "metadata": {},
     "output_type": "execute_result"
    }
   ],
   "source": [
    "from langchain.schema import SystemMessage\n",
    "from langchain.schema import HumanMessage\n",
    "from langchain.schema import AIMessage\n",
    "\n",
    "# 直接创建消息\n",
    "# SystemMessage(\n",
    "#     content=\"你是一个起名大师\",\n",
    "#     # additional_kwargs 附加参数\n",
    "#     additional_kwargs={\n",
    "#         \"大师姓名\": \"女大学生\"\n",
    "#     }\n",
    "# )\n",
    "\n",
    "# HumanMessage(\n",
    "#     content= \"请问大师叫什么\"\n",
    "# )\n",
    "\n",
    "AIMessage(\n",
    "    content=\"我是女大学生\"\n",
    ")"
   ]
  },
  {
   "cell_type": "markdown",
   "metadata": {},
   "source": [
    "每段跑起来就是这样,我们可以这样在一个数组里展示出来"
   ]
  },
  {
   "cell_type": "code",
   "execution_count": 14,
   "metadata": {},
   "outputs": [
    {
     "data": {
      "text/plain": [
       "[SystemMessage(content='你是一个起名大师', additional_kwargs={'大师姓名': '女大学生'}),\n",
       " HumanMessage(content='请问大师叫什么'),\n",
       " AIMessage(content='我是女大学生')]"
      ]
     },
     "execution_count": 14,
     "metadata": {},
     "output_type": "execute_result"
    }
   ],
   "source": [
    "# 还是第一步导入模块\n",
    "from langchain.schema import SystemMessage\n",
    "from langchain.schema import HumanMessage\n",
    "from langchain.schema import AIMessage\n",
    "\n",
    "# 直接创建消息\n",
    "system = SystemMessage(\n",
    "    content=\"你是一个起名大师\",\n",
    "    # additional_kwargs 附加参数\n",
    "    additional_kwargs={\n",
    "        \"大师姓名\": \"女大学生\"\n",
    "        # 这里我在写的时候看到植物大战僵尸杂交版更新了,就随便起的\n",
    "    }\n",
    ")\n",
    "\n",
    "people = HumanMessage(\n",
    "    content= \"请问大师叫什么\"\n",
    ")\n",
    "\n",
    "appleIntelligence = AIMessage(\n",
    "    content=\"我是女大学生\"\n",
    ")\n",
    "\n",
    "[system, people, appleIntelligence]"
   ]
  },
  {
   "cell_type": "markdown",
   "metadata": {},
   "source": [
    "效果消息体,跟上面是一样的\n",
    "编程的时候适用不同场景,这里需要注意"
   ]
  },
  {
   "cell_type": "code",
   "metadata": {
    "jupyter": {
     "is_executing": true
    }
   },
   "source": [
    "# 其实的话langchain已经帮我们封装好了一些template的模块,我们直接用就行了\n",
    "from langchain.prompts import AIMessagePromptTemplate\n",
    "from langchain.prompts import SystemMessagePromptTemplate\n",
    "from langchain.prompts import HumanMessagePromptTemplate\n",
    "from langchain.prompts import ChatMessagePromptTemplate\n",
    "\n",
    "# 测试一下\n",
    "prompt = \"愿{subject}与你同在!\"\n",
    "\n",
    "chat_message_prompt = ChatMessagePromptTemplate.from_template(template=prompt)\n",
    "# formatted_prompt = chat_message_prompt.format(subject=\"上帝\")\n",
    "\n",
    "# print(formatted_prompt)\n",
    "chat_message_prompt.format(subject=\"上帝\")"
   ],
   "outputs": [],
   "execution_count": null
  },
  {
   "cell_type": "code",
   "execution_count": 27,
   "metadata": {},
   "outputs": [
    {
     "data": {
      "text/plain": [
       "ChatMessage(content='May the force be with you', role='Jedi')"
      ]
     },
     "execution_count": 27,
     "metadata": {},
     "output_type": "execute_result"
    }
   ],
   "source": [
    "from langchain.prompts import ChatMessagePromptTemplate\n",
    "\n",
    "prompt = \"May the {subject} be with you\"\n",
    "\n",
    "chat_message_prompt = ChatMessagePromptTemplate.from_template(\n",
    "    role=\"Jedi\", template=prompt\n",
    ")\n",
    "chat_message_prompt.format(subject=\"force\")"
   ]
  },
  {
   "cell_type": "markdown",
   "metadata": {},
   "source": [
    "不知道为什么出现这个错误,我用成SystemMessagePromptTemplate"
   ]
  },
  {
   "cell_type": "code",
   "execution_count": 23,
   "metadata": {},
   "outputs": [
    {
     "name": "stdout",
     "output_type": "stream",
     "text": [
      "content='愿上帝与你同在!'\n"
     ]
    }
   ],
   "source": [
    "from langchain.prompts import SystemMessagePromptTemplate\n",
    "\n",
    "# 定义模板\n",
    "prompt = \"愿{subject}与你同在!\"\n",
    "\n",
    "# 创建 SystemMessagePromptTemplate 实例\n",
    "system_message_prompt = SystemMessagePromptTemplate.from_template(template=prompt)\n",
    "\n",
    "# 格式化模板\n",
    "formatted_prompt = system_message_prompt.format(subject=\"上帝\")\n",
    "\n",
    "print(formatted_prompt)\n"
   ]
  },
  {
   "cell_type": "code",
   "execution_count": 24,
   "metadata": {},
   "outputs": [
    {
     "name": "stdout",
     "output_type": "stream",
     "text": [
      "content='愿上帝与你同在!' role='天道'\n"
     ]
    }
   ],
   "source": [
    "from langchain.prompts import ChatMessagePromptTemplate\n",
    "\n",
    "# 定义模板\n",
    "prompt = \"愿{subject}与你同在!\"\n",
    "\n",
    "# 创建 SystemMessagePromptTemplate 实例\n",
    "system_message_prompt = ChatMessagePromptTemplate.from_template(role=\"天道\",template=prompt)\n",
    "\n",
    "# 格式化模板\n",
    "formatted_prompt = system_message_prompt.format(subject=\"上帝\")\n",
    "\n",
    "print(formatted_prompt)"
   ]
  },
  {
   "cell_type": "markdown",
   "metadata": {},
   "source": [
    "role就是我们构造的角色"
   ]
  }
 ],
 "metadata": {
  "kernelspec": {
   "display_name": "Python 3",
   "language": "python",
   "name": "python3"
  },
  "language_info": {
   "codemirror_mode": {
    "name": "ipython",
    "version": 3
   },
   "file_extension": ".py",
   "mimetype": "text/x-python",
   "name": "python",
   "nbconvert_exporter": "python",
   "pygments_lexer": "ipython3",
   "version": "3.12.1"
  }
 },
 "nbformat": 4,
 "nbformat_minor": 2
}
