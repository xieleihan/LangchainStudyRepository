{
 "cells": [
  {
   "cell_type": "markdown",
   "metadata": {},
   "source": [
    "LangGraph是基于工作流状态机\n",
    "状态的管理\n",
    "\n",
    "why:\n",
    "跨越多个对话或工具无缝状态管理\n",
    "根据动态条件在节点之间灵活跳转\n",
    "在llm和人工操作之间平滑切换\n",
    "长时间运行的持久性\n",
    "\n",
    "更低级别,更细颗粒度\n",
    "适合跟复杂的Agent\n",
    "\n",
    "三个状态\n",
    "State 状态机状态 任何Python类型\n",
    "Nodes Agent的逻辑函数 操作State\n",
    "Edges 控制流规则,条件分支或固定转换\n"
   ]
  }
 ],
 "metadata": {
  "language_info": {
   "name": "python"
  }
 },
 "nbformat": 4,
 "nbformat_minor": 2
}
