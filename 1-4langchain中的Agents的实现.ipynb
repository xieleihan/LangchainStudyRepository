{
 "cells": [
  {
   "cell_type": "markdown",
   "metadata": {},
   "source": [
    "一个简单的Agents\n",
    "<hr />"
   ]
  },
  {
   "cell_type": "code",
   "execution_count": 1,
   "metadata": {},
   "outputs": [],
   "source": [
    "# 导入模块\n",
    "from dotenv import find_dotenv, load_dotenv\n",
    "import os\n",
    "# 加载 API key\n",
    "load_dotenv(find_dotenv())\n",
    "api_key = os.getenv(\"DASHSCOPE_API_KEY\")\n",
    "\n",
    "# 首先依旧导入模块\n",
    "from langchain_community.chat_models import ChatTongyi\n",
    "import os\n",
    "\n",
    "llm = ChatTongyi(\n",
    "    dashscope_api_key = api_key,\n",
    "    model = \"Qwen-max\",\n",
    "    temperature = 0\n",
    ")\n",
    "\n",
    "# 搭建工具\n",
    "# 我们使用一个工具,serpai是一个聚合搜索引擎,需要安装谷歌搜索包和申请apikey\n",
    "# https://serpapi.com/dashboard\n",
    "# llm-math 是一个封装好的数学计算链\n",
    "# 首先我们需要安装谷歌搜索包\n"
   ]
  },
  {
   "cell_type": "markdown",
   "metadata": {},
   "source": [
    "! pip install google-search-results"
   ]
  },
  {
   "cell_type": "code",
   "execution_count": 4,
   "metadata": {},
   "outputs": [
    {
     "name": "stdout",
     "output_type": "stream",
     "text": [
      "\n",
      "\n",
      "\u001b[1m> Entering new AgentExecutor chain...\u001b[0m\n",
      "\u001b[32;1m\u001b[1;3m我需要知道前任女王的名字和年龄，然后用计算器计算她年龄的平方。\n",
      "Action: Search\n",
      "Action Input: \"英国前任女王名字 年龄\"\n",
      "Observation:\u001b[0m\n",
      "Observation: \u001b[36;1m\u001b[1;3m['伊丽莎白二世（英语：Elizabeth II；1926年4月21日—2022年9月8日），全名伊丽莎白·亚历山德拉·玛丽（英语：Elizabeth Alexandra Mary），是1952年至2022年间英国暨其他英 ...', '到了18岁成年之际，随着英国议会修改法律，伊丽莎白公主跻身五名英国国务顾问之一，可在其父无法履职或身在国外之时，代行王室职责。1945年，她说服乔治六 ...', '伊莉莎白二世（英語：Elizabeth II；1926年4月21日—2022年9月8日），全名伊莉莎白·亞歷山德拉·瑪麗（英語：Elizabeth Alexandra Mary），是1952年至2022年間英國暨其他大 ...', '... ，是日本漫画《名侦探柯南》及其衍生作品中的角色。是一名律师，拥有“律政界女王 ... 生日. 10月10日. 年龄. 37岁（初登场）→38岁. 毕业院校. 帝丹高中 ...', '楼主的话：. 当地时间9月8日，英国女王伊丽莎白二世去世，终年96岁。从1952年登基至今，伊丽莎白二世在位70年，是英国历史上在位时间最长的君主。', '国内时间9月9日，据英国媒体报道，现任英国女王伊丽莎白二世于英国时间9月8日因身体原因不幸逝世，享年96岁，此消息公布后，瞬间引起了全世界网友的 ...', '英国女王即英国女性君主。英国君主是英国及英国海外领地的国家元首，现在的男性君主称为国王（King），女性君主称为女王（Queen）。1953年6月2日，伊丽莎白二世正式 ...', '英国女王伊丽莎白二世9月8日下午6时30分离开了钟爱她的臣民，也为一个时代画上了句号。史上年龄最大的王储查尔斯王子也终于顺位成为国王，他做的第一 ...', 'https://vimeo.com/manage/videos/968601255']\u001b[0m\n",
      "Thought:\u001b[32;1m\u001b[1;3m我现在知道了前任女王的名字是伊丽莎白二世，以及她的年龄是96岁，现在我可以使用计算器来算出她年龄的平方了。\n",
      "Action: Calculator\n",
      "Action Input: 96*96\u001b[0m\n",
      "Observation: \u001b[33;1m\u001b[1;3mAnswer: 9216\u001b[0m\n",
      "Thought:\u001b[32;1m\u001b[1;3m我现在知道最终答案了\n",
      "Final Answer: 英国前任女王的名字是伊丽莎白二世，她去世时的年龄为96岁，年龄的平方是9216。\u001b[0m\n",
      "\n",
      "\u001b[1m> Finished chain.\u001b[0m\n"
     ]
    },
    {
     "data": {
      "text/plain": [
       "'英国前任女王的名字是伊丽莎白二世，她去世时的年龄为96岁，年龄的平方是9216。'"
      ]
     },
     "execution_count": 4,
     "metadata": {},
     "output_type": "execute_result"
    }
   ],
   "source": [
    "# 导入模块\n",
    "from dotenv import find_dotenv, load_dotenv\n",
    "import os\n",
    "# 加载 API key\n",
    "load_dotenv(find_dotenv())\n",
    "dashscope_api_key = os.getenv(\"DASHSCOPE_API_KEY\")\n",
    "serpapi_api_key = os.getenv(\"SERPAPI_API_KEY\")\n",
    "\n",
    "# 首先依旧导入模块\n",
    "from langchain_community.chat_models import ChatTongyi\n",
    "import os\n",
    "\n",
    "llm = ChatTongyi(\n",
    "    dashscope_api_key = dashscope_api_key,\n",
    "    model = \"qwen-vl-max\",\n",
    "    temperature = 0\n",
    ")\n",
    "\n",
    "from langchain.agents import load_tools\n",
    "# 搭建工具\n",
    "tools = load_tools(\n",
    "    [\"serpapi\", \"llm-math\"],\n",
    "    llm=llm,\n",
    "    serpapi_api_key=serpapi_api_key\n",
    ")\n",
    "\n",
    "# 定义agents使用小样本增强\n",
    "from langchain.agents import initialize_agent\n",
    "from langchain.agents import AgentType\n",
    "\n",
    "# 定义工具\n",
    "agent = initialize_agent(\n",
    "    tools,\n",
    "    llm,\n",
    "    agent=AgentType.ZERO_SHOT_REACT_DESCRIPTION,# 这里有不同的类型\n",
    "    verbose=True\n",
    ")\n",
    "\n",
    "agent.run(\"英国前任女王的名字叫什么,她的年龄的平方是多少?\")"
   ]
  },
  {
   "cell_type": "markdown",
   "metadata": {},
   "source": [
    "几种内置的主要agent类型\n",
    "- openai_functions OpenAI函数调用型\n",
    "- zero_short_react_description 零样本增强生成型\n",
    "- chat_zero_shot_react_description 零样本增强对话型\n",
    "- conversational_react_description 对话增强生成型\n",
    "- chat_conversational_react_description 对话增强结构化\n",
    "- structued_chat_zero_short_react_description 零样本增强结构化对话型\n",
    "<hr>"
   ]
  },
  {
   "cell_type": "markdown",
   "metadata": {},
   "source": [
    "零样本实现\n",
    "零样本增强生成,既在没有示例的情况下,可以自主进行对话的类型[零样本,单样本,少样本]\n",
    "https://blog.csdn.net/zcyzcyjava/article/details/127006287"
   ]
  },
  {
   "cell_type": "code",
   "execution_count": 5,
   "metadata": {},
   "outputs": [
    {
     "name": "stdout",
     "output_type": "stream",
     "text": [
      "\n",
      "\n",
      "\u001b[1m> Entering new AgentExecutor chain...\u001b[0m\n",
      "\u001b[32;1m\u001b[1;3m 新西兰是君主立宪制国家，其国家元首是英国女王。因此，上一任新西兰女王就是指的是英国的前一位君主。目前英国的君主是伊丽莎白二世，但她在2022年9月8日去世，随后由她的儿子查尔斯三世继位。我会计算查尔斯三世现在的年龄除以2。\n",
      "Action: Calculator\n",
      "Action Input: 74 / 2\u001b[0m\n",
      "Observation: \u001b[33;1m\u001b[1;3mAnswer: 37.0\u001b[0m\n",
      "Thought:\u001b[32;1m\u001b[1;3m我找到了答案。\n",
      "Final Answer: 上一任新西兰女王是查尔斯三世，他的年龄除以2是37。\u001b[0m\n",
      "\n",
      "\u001b[1m> Finished chain.\u001b[0m\n"
     ]
    },
    {
     "data": {
      "text/plain": [
       "'上一任新西兰女王是查尔斯三世，他的年龄除以2是37。'"
      ]
     },
     "execution_count": 5,
     "metadata": {},
     "output_type": "execute_result"
    }
   ],
   "source": [
    "from langchain.llms import Tongyi\n",
    "from langchain.agents import (\n",
    "    load_tools,\n",
    "    initialize_agent,\n",
    "    AgentType\n",
    ")\n",
    "import os\n",
    "from dotenv import find_dotenv, load_dotenv\n",
    "import os\n",
    "# 加载 API key\n",
    "load_dotenv(find_dotenv())\n",
    "dashscope_api_key = os.getenv(\"DASHSCOPE_API_KEY\")\n",
    "serpapi_api_key = os.getenv(\"SERPAPI_API_KEY\")\n",
    "\n",
    "llm = Tongyi(\n",
    "    dashscope_api_key = dashscope_api_key,\n",
    "    model = 'Qwen-max',\n",
    "    temperature =0\n",
    ")\n",
    "\n",
    "tools = load_tools([\"serpapi\", \"llm-math\"], llm=llm, serpapi_api_key=serpapi_api_key)\n",
    "agent = initialize_agent(\n",
    "    tools,\n",
    "    llm,\n",
    "    agent=AgentType.ZERO_SHOT_REACT_DESCRIPTION,\n",
    "    verbose=True\n",
    ")\n",
    "\n",
    "agent.run('上一任新西兰女王是谁?她年龄除以2是多少?')"
   ]
  },
  {
   "cell_type": "markdown",
   "metadata": {},
   "source": [
    "chat_zero_short_react_description"
   ]
  },
  {
   "cell_type": "code",
   "execution_count": 7,
   "metadata": {},
   "outputs": [
    {
     "name": "stdout",
     "output_type": "stream",
     "text": [
      "\n",
      "\n",
      "\u001b[1m> Entering new AgentExecutor chain...\u001b[0m\n",
      "\u001b[32;1m\u001b[1;3mThought: The third pole of the world refers to the Qinghai-Tibet Plateau. It's also known as the \"Third Pole of the Earth\", which means it is the third highest elevation region on earth after the South Pole and the North Pole. The average altitude of the Qinghai-Tibet Plateau is more than 4000 meters, so its height multiplied by 2 will be greater than 8000 meters. I need to use the calculator to perform this calculation.\n",
      "Action:\n",
      "```\n",
      "{\n",
      "  \"action\": \"Calculator\",\n",
      "  \"action_input\": \"4000 * 2\"\n",
      "}\n",
      "```\u001b[0m\n",
      "Observation: \u001b[33;1m\u001b[1;3mAnswer: 8000\u001b[0m\n",
      "Thought:\u001b[32;1m\u001b[1;3mI now know the final answer.\n",
      "Final Answer: The height of the Qinghai-Tibet Plateau multiplied by 2 is 8000 meters.\u001b[0m\n",
      "\n",
      "\u001b[1m> Finished chain.\u001b[0m\n"
     ]
    },
    {
     "data": {
      "text/plain": [
       "'The height of the Qinghai-Tibet Plateau multiplied by 2 is 8000 meters.'"
      ]
     },
     "execution_count": 7,
     "metadata": {},
     "output_type": "execute_result"
    }
   ],
   "source": [
    "# from langchain.llms import Tongyi\n",
    "from langchain_community.chat_models import ChatTongyi\n",
    "from langchain.agents import (\n",
    "    load_tools,\n",
    "    initialize_agent,\n",
    "    AgentType\n",
    ")\n",
    "import os\n",
    "from dotenv import find_dotenv, load_dotenv\n",
    "import os\n",
    "# 加载 API key\n",
    "load_dotenv(find_dotenv())\n",
    "dashscope_api_key = os.getenv(\"DASHSCOPE_API_KEY\")\n",
    "serpapi_api_key = os.getenv(\"SERPAPI_API_KEY\")\n",
    "\n",
    "llm = ChatTongyi(\n",
    "    dashscope_api_key = dashscope_api_key,\n",
    "    model_name = 'qwen-vl-max',\n",
    "    temperature =0\n",
    ")\n",
    "\n",
    "tools = load_tools([\"serpapi\", \"llm-math\"], llm=llm, serpapi_api_key=serpapi_api_key)\n",
    "agent = initialize_agent(\n",
    "    tools,\n",
    "    llm,\n",
    "    agent=AgentType.CHAT_ZERO_SHOT_REACT_DESCRIPTION,\n",
    "    verbose=True\n",
    ")\n",
    "\n",
    "agent.run('世界第三极是什么?它的高度乘2是多少?')"
   ]
  },
  {
   "cell_type": "markdown",
   "metadata": {},
   "source": [
    "conversational_react_description 一个对话型的agent,这个agent要求与memory一起使用"
   ]
  },
  {
   "cell_type": "code",
   "execution_count": 8,
   "metadata": {},
   "outputs": [
    {
     "name": "stdout",
     "output_type": "stream",
     "text": [
      "memory=ConversationBufferMemory(memory_key='chat_history') verbose=True tags=['conversational-react-description'] agent=ConversationalAgent(llm_chain=LLMChain(prompt=PromptTemplate(input_variables=['agent_scratchpad', 'chat_history', 'input'], template='Assistant is a large language model trained by OpenAI.\\n\\nAssistant is designed to be able to assist with a wide range of tasks, from answering simple questions to providing in-depth explanations and discussions on a wide range of topics. As a language model, Assistant is able to generate human-like text based on the input it receives, allowing it to engage in natural-sounding conversations and provide responses that are coherent and relevant to the topic at hand.\\n\\nAssistant is constantly learning and improving, and its capabilities are constantly evolving. It is able to process and understand large amounts of text, and can use this knowledge to provide accurate and informative responses to a wide range of questions. Additionally, Assistant is able to generate its own text based on the input it receives, allowing it to engage in discussions and provide explanations and descriptions on a wide range of topics.\\n\\nOverall, Assistant is a powerful tool that can help with a wide range of tasks and provide valuable insights and information on a wide range of topics. Whether you need help with a specific question or just want to have a conversation about a particular topic, Assistant is here to assist.\\n\\nTOOLS:\\n------\\n\\nAssistant has access to the following tools:\\n\\n> Search: A search engine. Useful for when you need to answer questions about current events. Input should be a search query.\\n> Calculator: Useful for when you need to answer questions about math.\\n\\nTo use a tool, please use the following format:\\n\\n```\\nThought: Do I need to use a tool? Yes\\nAction: the action to take, should be one of [Search, Calculator]\\nAction Input: the input to the action\\nObservation: the result of the action\\n```\\n\\nWhen you have a response to say to the Human, or if you do not need to use a tool, you MUST use the format:\\n\\n```\\nThought: Do I need to use a tool? No\\nAI: [your response here]\\n```\\n\\nBegin!\\n\\nPrevious conversation history:\\n{chat_history}\\n\\nNew input: {input}\\n{agent_scratchpad}'), llm=Tongyi(client=<class 'dashscope.aigc.generation.Generation'>, dashscope_api_key='sk-2a9e44d9621f4fd1b5f9f2c081779215')), output_parser=ConvoOutputParser(), allowed_tools=['Search', 'Calculator'], ai_prefix='AI') tools=[Tool(name='Search', description='A search engine. Useful for when you need to answer questions about current events. Input should be a search query.', func=<bound method SerpAPIWrapper.run of SerpAPIWrapper(search_engine=<class 'serpapi.google_search.GoogleSearch'>, params={'engine': 'google', 'google_domain': 'google.com', 'gl': 'us', 'hl': 'en'}, serpapi_api_key='ebcc8130fff3a121b7029d6db2bd880991535ffa5ce8df722ba3d4aa1a892f73', aiosession=None)>, coroutine=<bound method SerpAPIWrapper.arun of SerpAPIWrapper(search_engine=<class 'serpapi.google_search.GoogleSearch'>, params={'engine': 'google', 'google_domain': 'google.com', 'gl': 'us', 'hl': 'en'}, serpapi_api_key='ebcc8130fff3a121b7029d6db2bd880991535ffa5ce8df722ba3d4aa1a892f73', aiosession=None)>), Tool(name='Calculator', description='Useful for when you need to answer questions about math.', func=<bound method Chain.run of LLMMathChain(llm_chain=LLMChain(prompt=PromptTemplate(input_variables=['question'], template='Translate a math problem into a expression that can be executed using Python\\'s numexpr library. Use the output of running this code to answer the question.\\n\\nQuestion: ${{Question with math problem.}}\\n```text\\n${{single line mathematical expression that solves the problem}}\\n```\\n...numexpr.evaluate(text)...\\n```output\\n${{Output of running the code}}\\n```\\nAnswer: ${{Answer}}\\n\\nBegin.\\n\\nQuestion: What is 37593 * 67?\\n```text\\n37593 * 67\\n```\\n...numexpr.evaluate(\"37593 * 67\")...\\n```output\\n2518731\\n```\\nAnswer: 2518731\\n\\nQuestion: 37593^(1/5)\\n```text\\n37593**(1/5)\\n```\\n...numexpr.evaluate(\"37593**(1/5)\")...\\n```output\\n8.222831614237718\\n```\\nAnswer: 8.222831614237718\\n\\nQuestion: {question}\\n'), llm=Tongyi(client=<class 'dashscope.aigc.generation.Generation'>, dashscope_api_key='sk-2a9e44d9621f4fd1b5f9f2c081779215')))>, coroutine=<bound method Chain.arun of LLMMathChain(llm_chain=LLMChain(prompt=PromptTemplate(input_variables=['question'], template='Translate a math problem into a expression that can be executed using Python\\'s numexpr library. Use the output of running this code to answer the question.\\n\\nQuestion: ${{Question with math problem.}}\\n```text\\n${{single line mathematical expression that solves the problem}}\\n```\\n...numexpr.evaluate(text)...\\n```output\\n${{Output of running the code}}\\n```\\nAnswer: ${{Answer}}\\n\\nBegin.\\n\\nQuestion: What is 37593 * 67?\\n```text\\n37593 * 67\\n```\\n...numexpr.evaluate(\"37593 * 67\")...\\n```output\\n2518731\\n```\\nAnswer: 2518731\\n\\nQuestion: 37593^(1/5)\\n```text\\n37593**(1/5)\\n```\\n...numexpr.evaluate(\"37593**(1/5)\")...\\n```output\\n8.222831614237718\\n```\\nAnswer: 8.222831614237718\\n\\nQuestion: {question}\\n'), llm=Tongyi(client=<class 'dashscope.aigc.generation.Generation'>, dashscope_api_key='sk-2a9e44d9621f4fd1b5f9f2c081779215')))>)]\n",
      "Assistant is a large language model trained by OpenAI.\n",
      "\n",
      "Assistant is designed to be able to assist with a wide range of tasks, from answering simple questions to providing in-depth explanations and discussions on a wide range of topics. As a language model, Assistant is able to generate human-like text based on the input it receives, allowing it to engage in natural-sounding conversations and provide responses that are coherent and relevant to the topic at hand.\n",
      "\n",
      "Assistant is constantly learning and improving, and its capabilities are constantly evolving. It is able to process and understand large amounts of text, and can use this knowledge to provide accurate and informative responses to a wide range of questions. Additionally, Assistant is able to generate its own text based on the input it receives, allowing it to engage in discussions and provide explanations and descriptions on a wide range of topics.\n",
      "\n",
      "Overall, Assistant is a powerful tool that can help with a wide range of tasks and provide valuable insights and information on a wide range of topics. Whether you need help with a specific question or just want to have a conversation about a particular topic, Assistant is here to assist.\n",
      "\n",
      "TOOLS:\n",
      "------\n",
      "\n",
      "Assistant has access to the following tools:\n",
      "\n",
      "> Search: A search engine. Useful for when you need to answer questions about current events. Input should be a search query.\n",
      "> Calculator: Useful for when you need to answer questions about math.\n",
      "\n",
      "To use a tool, please use the following format:\n",
      "\n",
      "```\n",
      "Thought: Do I need to use a tool? Yes\n",
      "Action: the action to take, should be one of [Search, Calculator]\n",
      "Action Input: the input to the action\n",
      "Observation: the result of the action\n",
      "```\n",
      "\n",
      "When you have a response to say to the Human, or if you do not need to use a tool, you MUST use the format:\n",
      "\n",
      "```\n",
      "Thought: Do I need to use a tool? No\n",
      "AI: [your response here]\n",
      "```\n",
      "\n",
      "Begin!\n",
      "\n",
      "Previous conversation history:\n",
      "{chat_history}\n",
      "\n",
      "New input: {input}\n",
      "{agent_scratchpad}\n"
     ]
    }
   ],
   "source": [
    "from langchain.llms import Tongyi\n",
    "from langchain.agents import(\n",
    "    load_tools,\n",
    "    initialize_agent,\n",
    "    AgentType\n",
    ")\n",
    "from langchain.memory import ConversationBufferMemory\n",
    "import os\n",
    "from dotenv import find_dotenv, load_dotenv\n",
    "# 加载 API key\n",
    "load_dotenv(find_dotenv())\n",
    "dashscope_api_key = os.getenv(\"DASHSCOPE_API_KEY\")\n",
    "serpapi_api_key = os.getenv(\"SERPAPI_API_KEY\")\n",
    "\n",
    "# 记忆组件\n",
    "memory = ConversationBufferMemory(\n",
    "    memory_key=\"chat_history\"\n",
    ")\n",
    "\n",
    "llm = Tongyi(\n",
    "    dashscope_api_key = dashscope_api_key,\n",
    "    model = \"Qwen-max\",\n",
    "    temperature = 0,\n",
    ")\n",
    "\n",
    "tools = load_tools([\"serpapi\", \"llm-math\"], llm=llm, serpapi_api_key=serpapi_api_key)\n",
    "agent = initialize_agent(\n",
    "    tools,\n",
    "    llm,\n",
    "    agent=AgentType.CONVERSATIONAL_REACT_DESCRIPTION,\n",
    "    verbose=True,\n",
    "    memory=memory # 记忆组件\n",
    ")\n",
    "\n",
    "print(agent)\n",
    "# 看下模版\n",
    "print(agent.agent.llm_chain.prompt.template)"
   ]
  },
  {
   "cell_type": "code",
   "execution_count": 9,
   "metadata": {},
   "outputs": [
    {
     "name": "stdout",
     "output_type": "stream",
     "text": [
      "\n",
      "\n",
      "\u001b[1m> Entering new AgentExecutor chain...\u001b[0m\n",
      "\u001b[32;1m\u001b[1;3mThought: Do I need to use a tool? No\n",
      "AI: Hello SouthAki, nice to meet you! I'm Assistant, a language model here to help with any questions or conversations you have. How can I assist you today?\u001b[0m\n",
      "\n",
      "\u001b[1m> Finished chain.\u001b[0m\n"
     ]
    },
    {
     "data": {
      "text/plain": [
       "\"Hello SouthAki, nice to meet you! I'm Assistant, a language model here to help with any questions or conversations you have. How can I assist you today?\""
      ]
     },
     "execution_count": 9,
     "metadata": {},
     "output_type": "execute_result"
    }
   ],
   "source": [
    "agent.run(\"hi, i am SouthAki,what is your name?\")"
   ]
  },
  {
   "cell_type": "code",
   "execution_count": 10,
   "metadata": {},
   "outputs": [
    {
     "name": "stdout",
     "output_type": "stream",
     "text": [
      "\n",
      "\n",
      "\u001b[1m> Entering new AgentExecutor chain...\u001b[0m\n",
      "\u001b[32;1m\u001b[1;3mThought: Do I need to use a tool? Yes\n",
      "Action: Search\n",
      "Action Input: 香港 旅游景点\n",
      "\u001b[0m\n",
      "Observation: \u001b[36;1m\u001b[1;3m[{'position': 1, 'block_position': 'top', 'title': '4-Hour Private Hong Kong Layover Tour', 'price': '$527', 'extracted_price': 527, 'link': 'https://www.viator.com/en-us/hong-kong-sar', 'source': 'Viator', 'rating': 5.0, 'reviews': 24, 'thumbnail': 'https://encrypted-tbn0.gstatic.com/images?q=tbn:ANd9GcT151NAaULmr_pNlSKOzEFK9MOPPSeAej8NskqIVEhZS8Im&s=4', 'extensions': ['Free cancellation']}, {'position': 2, 'block_position': 'top', 'title': '6-Hour Private Hong Kong Layover Tour', 'price': '$792', 'extracted_price': 792, 'link': 'https://www.viator.com/en-us/hong-kong-sar', 'source': 'Viator', 'rating': 5.0, 'reviews': 14, 'thumbnail': 'https://encrypted-tbn0.gstatic.com/images?q=tbn:ANd9GcRQ1yvAujHf4ttk8ZACiZ72lC8dxkaPZqPMEiTC93gouGpG&s=4', 'extensions': ['Free cancellation']}, {'position': 3, 'block_position': 'top', 'title': 'Victoria Harbour Day or Sunset Cruise', 'price': '$20', 'extracted_price': 20, 'link': 'https://www.getyourguide.com/', 'source': 'GetYourGuide', 'rating': 4.4, 'reviews': 90, 'thumbnail': 'https://encrypted-tbn0.gstatic.com/images?q=tbn:ANd9GcQ3FnrvqM7sLsolWBPOluVaJhybQ7M3BSe9-piPOAoTqRc9&s=4', 'extensions': ['Kid-friendly']}]\u001b[0m\n",
      "Thought:\u001b[32;1m\u001b[1;3mDo I need to use a tool? No\n",
      "AI: 香港有很多好玩的地方！例如，你可以考虑参加一个私人香港过境游，比如4小时或6小时的行程，这将带你游览城市的著名景点。此外，维多利亚港的日间或日落巡游也是一个不错的选择，你可以在游船上欣赏到香港壮观的天际线。这些都是游客们非常喜欢的活动。如果你对具体的景点或者信息有兴趣，可以告诉我，我会提供更多的帮助。\u001b[0m\n",
      "\n",
      "\u001b[1m> Finished chain.\u001b[0m\n"
     ]
    },
    {
     "data": {
      "text/plain": [
       "'香港有很多好玩的地方！例如，你可以考虑参加一个私人香港过境游，比如4小时或6小时的行程，这将带你游览城市的著名景点。此外，维多利亚港的日间或日落巡游也是一个不错的选择，你可以在游船上欣赏到香港壮观的天际线。这些都是游客们非常喜欢的活动。如果你对具体的景点或者信息有兴趣，可以告诉我，我会提供更多的帮助。'"
      ]
     },
     "execution_count": 10,
     "metadata": {},
     "output_type": "execute_result"
    }
   ],
   "source": [
    "agent.run(\"香港有哪里比较好玩的吗?\")"
   ]
  },
  {
   "cell_type": "code",
   "execution_count": 12,
   "metadata": {},
   "outputs": [
    {
     "name": "stdout",
     "output_type": "stream",
     "text": [
      "\n",
      "\n",
      "\u001b[1m> Entering new AgentExecutor chain...\u001b[0m\n",
      "\u001b[32;1m\u001b[1;3mThought: Do I need to use a tool? No\n",
      "AI: 当然，你的名字是SouthAki，所以你的名字的最后三个字母是\"ki\"。\u001b[0m\n",
      "\n",
      "\u001b[1m> Finished chain.\u001b[0m\n"
     ]
    },
    {
     "data": {
      "text/plain": [
       "'当然，你的名字是SouthAki，所以你的名字的最后三个字母是\"ki\"。'"
      ]
     },
     "execution_count": 12,
     "metadata": {},
     "output_type": "execute_result"
    }
   ],
   "source": [
    "agent.run(\"我还没玩过,你知道我名字后三个字母是什么吗?\")"
   ]
  },
  {
   "cell_type": "code",
   "execution_count": 13,
   "metadata": {},
   "outputs": [
    {
     "name": "stdout",
     "output_type": "stream",
     "text": [
      "\n",
      "\n",
      "\u001b[1m> Entering new AgentExecutor chain...\u001b[0m\n",
      "\u001b[32;1m\u001b[1;3mThought: Do I need to use a tool? Yes\n",
      "Action: Search\n",
      "Action Input: Current temperature in Guangzhou, Guangdong Province, China\u001b[0m\n",
      "Observation: \u001b[36;1m\u001b[1;3m{'type': 'weather_result', 'temperature': '91', 'unit': 'Fahrenheit', 'precipitation': '7%', 'humidity': '63%', 'wind': '13 mph', 'location': 'Guangzhou, Guangdong Province, China', 'date': 'Sunday 5:00 PM', 'weather': 'Partly cloudy'}\u001b[0m\n",
      "Thought:\u001b[32;1m\u001b[1;3m Do I need to use a tool? No\n",
      "AI: 目前，中国广东省广州市的气温是91华氏度（约32.8摄氏度），天气部分多云，有7%的降水概率，湿度为63%，风速为13英里/小时。请注意，天气情况可能会变化，请随时查看最新的预报。\u001b[0m\n",
      "\n",
      "\u001b[1m> Finished chain.\u001b[0m\n"
     ]
    },
    {
     "data": {
      "text/plain": [
       "'目前，中国广东省广州市的气温是91华氏度（约32.8摄氏度），天气部分多云，有7%的降水概率，湿度为63%，风速为13英里/小时。请注意，天气情况可能会变化，请随时查看最新的预报。'"
      ]
     },
     "execution_count": 13,
     "metadata": {},
     "output_type": "execute_result"
    }
   ],
   "source": [
    "agent.run(\"中国广东省广州市现在的气温是多少来着?\")"
   ]
  },
  {
   "cell_type": "code",
   "execution_count": 14,
   "metadata": {},
   "outputs": [
    {
     "name": "stdout",
     "output_type": "stream",
     "text": [
      "\n",
      "\n",
      "\u001b[1m> Entering new AgentExecutor chain...\u001b[0m\n",
      "\u001b[32;1m\u001b[1;3mThought: Do I need to use a tool? No\n",
      "AI: So far, we have asked five questions in this conversation.\u001b[0m\n",
      "\n",
      "\u001b[1m> Finished chain.\u001b[0m\n"
     ]
    },
    {
     "data": {
      "text/plain": [
       "'So far, we have asked five questions in this conversation.'"
      ]
     },
     "execution_count": 14,
     "metadata": {},
     "output_type": "execute_result"
    }
   ],
   "source": [
    "agent.run(\"截止到现在我们问了多少问题?\")"
   ]
  },
  {
   "cell_type": "markdown",
   "metadata": {},
   "source": [
    "chat_convasational_react_description 使用了chatModel"
   ]
  },
  {
   "cell_type": "code",
   "execution_count": null,
   "metadata": {},
   "outputs": [],
   "source": [
    "from langchain_community.chat_models import ChatTongyi\n",
    "from langchain.agents import(\n",
    "    load_tools,\n",
    "    initialize_agent,\n",
    "    AgentType\n",
    ")\n",
    "from langchain.memory import ConversationBufferMemory\n",
    "import os\n",
    "from dotenv import find_dotenv, load_dotenv\n",
    "# 加载 API key\n",
    "load_dotenv(find_dotenv())\n",
    "dashscope_api_key = os.getenv(\"DASHSCOPE_API_KEY\")\n",
    "serpapi_api_key = os.getenv(\"SERPAPI_API_KEY\")\n",
    "\n",
    "# 记忆组件\n",
    "memory = ConversationBufferMemory(\n",
    "    memory_key=\"chat_history\",\n",
    "    return_messages= True\n",
    ")\n",
    "\n",
    "llm = ChatTongyi(\n",
    "    dashscope_api_key = dashscope_api_key,\n",
    "    model_name = \"qwen-vl-max\",\n",
    "    temperature = 0,\n",
    ")\n",
    "\n",
    "tools = load_tools([\"serpapi\", \"llm-math\"], llm=llm, serpapi_api_key=serpapi_api_key)\n",
    "agent = initialize_agent(\n",
    "    tools,\n",
    "    llm,\n",
    "    agent=AgentType.CHAT_CONVERSATIONAL_REACT_DESCRIPTION,\n",
    "    verbose=True,\n",
    "    memory=memory # 记忆组件\n",
    ")\n",
    "\n",
    "print(agent)\n",
    "# 看下模版\n",
    "print(agent.agent.llm_chain.prompt.template)"
   ]
  },
  {
   "cell_type": "code",
   "execution_count": 15,
   "metadata": {},
   "outputs": [
    {
     "name": "stdout",
     "output_type": "stream",
     "text": [
      "\n",
      "\n",
      "\u001b[1m> Entering new AgentExecutor chain...\u001b[0m\n",
      "\u001b[32;1m\u001b[1;3mThought: Do I need to use a tool? No\n",
      "AI: Hi 南秋SouthAki, nice to meet you! I'm Assistant, a language model here to assist you with any questions or discussions. How can I help you today?\u001b[0m\n",
      "\n",
      "\u001b[1m> Finished chain.\u001b[0m\n"
     ]
    },
    {
     "data": {
      "text/plain": [
       "\"Hi 南秋SouthAki, nice to meet you! I'm Assistant, a language model here to assist you with any questions or discussions. How can I help you today?\""
      ]
     },
     "execution_count": 15,
     "metadata": {},
     "output_type": "execute_result"
    }
   ],
   "source": [
    "agent.run(\"hi, i am 南秋SouthAki,what is your name?\")"
   ]
  },
  {
   "cell_type": "code",
   "execution_count": 16,
   "metadata": {},
   "outputs": [
    {
     "name": "stdout",
     "output_type": "stream",
     "text": [
      "\n",
      "\n",
      "\u001b[1m> Entering new AgentExecutor chain...\u001b[0m\n",
      "\u001b[32;1m\u001b[1;3mThought: Do I need to use a tool? Yes\n",
      "Action: Search\n",
      "Action Input: \"Hong Kong famous foods\"\u001b[0m\n",
      "Observation: \u001b[36;1m\u001b[1;3m19 Must-eat Foods in Hong Kong\u001b[0m\n",
      "Thought:\u001b[32;1m\u001b[1;3m Do I need to use a tool? No\n",
      "AI: 香港的美食非常丰富多样！以下是一些香港著名的美食，你可以尝试一下：\n",
      "\n",
      "1. 港式早茶：包括点心如虾饺、肠粉和烧卖。\n",
      "2. 烧鹅：香脆的外皮和嫩滑的肉质非常美味。\n",
      "3. 云吞面：鲜美的馄饨搭配弹牙的面条。\n",
      "4. 寿司和刺身：香港有众多优质的日本餐厅。\n",
      "5. 蛇羹：一种传统的汤，由蛇肉和其他配料制成。\n",
      "6. 柠檬茶和鸳鸯：经典的港式饮品。\n",
      "7. 奶茶和菠萝油：奶茶醇厚，菠萝油酥软可口。\n",
      "8. 煲仔饭：在小砂锅中烹煮的米饭，通常配有肉类和蔬菜。\n",
      "9. 西多士：法式吐司蘸蛋液炸制，常配以炼乳或花生酱。\n",
      "10. 冰室的甜品：如芒果糯米糍、杨枝甘露等。\n",
      "\n",
      "这些都是香港非常受欢迎的美食，你一定不能错过。如果你有特别的口味或者想知道更多，也可以告诉我哦！\u001b[0m\n",
      "\n",
      "\u001b[1m> Finished chain.\u001b[0m\n"
     ]
    },
    {
     "data": {
      "text/plain": [
       "'香港的美食非常丰富多样！以下是一些香港著名的美食，你可以尝试一下：\\n\\n1. 港式早茶：包括点心如虾饺、肠粉和烧卖。\\n2. 烧鹅：香脆的外皮和嫩滑的肉质非常美味。\\n3. 云吞面：鲜美的馄饨搭配弹牙的面条。\\n4. 寿司和刺身：香港有众多优质的日本餐厅。\\n5. 蛇羹：一种传统的汤，由蛇肉和其他配料制成。\\n6. 柠檬茶和鸳鸯：经典的港式饮品。\\n7. 奶茶和菠萝油：奶茶醇厚，菠萝油酥软可口。\\n8. 煲仔饭：在小砂锅中烹煮的米饭，通常配有肉类和蔬菜。\\n9. 西多士：法式吐司蘸蛋液炸制，常配以炼乳或花生酱。\\n10. 冰室的甜品：如芒果糯米糍、杨枝甘露等。\\n\\n这些都是香港非常受欢迎的美食，你一定不能错过。如果你有特别的口味或者想知道更多，也可以告诉我哦！'"
      ]
     },
     "execution_count": 16,
     "metadata": {},
     "output_type": "execute_result"
    }
   ],
   "source": [
    "agent.run(\"香港有什么比较好吃的美食?\")"
   ]
  },
  {
   "cell_type": "code",
   "execution_count": 17,
   "metadata": {},
   "outputs": [
    {
     "name": "stdout",
     "output_type": "stream",
     "text": [
      "\n",
      "\n",
      "\u001b[1m> Entering new AgentExecutor chain...\u001b[0m\n",
      "\u001b[32;1m\u001b[1;3mThought: Do I need to use a tool? Yes\n",
      "Action: Calculator\n",
      "Action Input: Not needed, as the task is not related to calculations.\n",
      "Thought: Do I need to use a tool? Yes\n",
      "Action: Search\n",
      "Action Input: \"current weather Macau\"\u001b[0m\n",
      "Observation: \u001b[33;1m\u001b[1;3mAnswer:  The current weather in Macau is [insert current weather details here, such as sunny, cloudy, temperature, humidity, etc.]. Please note that this information may not be real-time and it's recommended to check a weather service for the most up-to-date conditions.\u001b[0m\n",
      "Thought:\u001b[32;1m\u001b[1;3m Do I need to use a tool? No\n",
      "AI: 对不起，我无法提供实时的天气信息，但通常来说，你可以检查天气预报服务来获取澳门当前的准确天气。不过，如果你想知道我是否还记得你名字的最后一个字母，那当然是\"A\"。\u001b[0m\n",
      "\n",
      "\u001b[1m> Finished chain.\u001b[0m\n"
     ]
    },
    {
     "data": {
      "text/plain": [
       "'对不起，我无法提供实时的天气信息，但通常来说，你可以检查天气预报服务来获取澳门当前的准确天气。不过，如果你想知道我是否还记得你名字的最后一个字母，那当然是\"A\"。'"
      ]
     },
     "execution_count": 17,
     "metadata": {},
     "output_type": "execute_result"
    }
   ],
   "source": [
    "agent.run(\"我还没吃过,不过你还知道我名字的最后一个字母是什么吗?中国澳门现在的气温是多少来着?\")"
   ]
  },
  {
   "cell_type": "code",
   "execution_count": 18,
   "metadata": {},
   "outputs": [
    {
     "name": "stdout",
     "output_type": "stream",
     "text": [
      "\n",
      "\n",
      "\u001b[1m> Entering new AgentExecutor chain...\u001b[0m\n",
      "\u001b[32;1m\u001b[1;3mThought: Do I need to use a tool? No\n",
      "AI: In this conversation, we have now asked seven questions.\u001b[0m\n",
      "\n",
      "\u001b[1m> Finished chain.\u001b[0m\n"
     ]
    },
    {
     "data": {
      "text/plain": [
       "'In this conversation, we have now asked seven questions.'"
      ]
     },
     "execution_count": 18,
     "metadata": {},
     "output_type": "execute_result"
    }
   ],
   "source": [
    "agent.run(\"截止到现在我们问了多少问题?\")"
   ]
  },
  {
   "cell_type": "markdown",
   "metadata": {},
   "source": [
    "接下来,我们来讲一下openai_functions 使用到了openai的函数调用来实现的,只支持OpenAI模型\n",
    "所以下面的演示,我直接以代码的形式讲解,不会去运行"
   ]
  }
 ],
 "metadata": {
  "kernelspec": {
   "display_name": "Python 3",
   "language": "python",
   "name": "python3"
  },
  "language_info": {
   "codemirror_mode": {
    "name": "ipython",
    "version": 3
   },
   "file_extension": ".py",
   "mimetype": "text/x-python",
   "name": "python",
   "nbconvert_exporter": "python",
   "pygments_lexer": "ipython3",
   "version": "3.12.1"
  }
 },
 "nbformat": 4,
 "nbformat_minor": 2
}
