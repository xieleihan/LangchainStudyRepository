{
 "cells": [
  {
   "cell_type": "markdown",
   "metadata": {},
   "source": [
    "请实现一个wordcount函数，统计英文字符串中每个单词出现的次数。返回一个字典，key为单词，value为对应单词出现的次数。\n",
    "<hr />"
   ]
  },
  {
   "cell_type": "code",
   "execution_count": 1,
   "metadata": {},
   "outputs": [
    {
     "name": "stdout",
     "output_type": "stream",
     "text": [
      "{'got': 2, 'this': 1, 'panda': 1, 'plush': 1, 'toy': 1, 'for': 3, 'my': 1, \"daughter's\": 1, 'birthday,': 1, 'who': 1, 'loves': 1, 'it': 5, 'and': 3, 'takes': 1, 'everywhere': 1, \"it's\": 2, 'soft': 1, 'super': 1, 'cute,': 1, 'its': 1, 'face': 1, 'has': 1, 'a': 3, 'friendly': 1, 'look': 1, 'bit': 1, 'small': 1, 'what': 1, 'i': 4, 'paid': 1, 'though': 1, 'think': 1, 'there': 1, 'might': 1, 'be': 1, 'other': 1, 'options': 1, 'that': 1, 'are': 1, 'bigger': 1, 'the': 1, 'same': 1, 'price': 1, 'arrived': 1, 'day': 1, 'earlier': 1, 'than': 1, 'expected,': 1, 'so': 1, 'to': 2, 'play': 1, 'with': 1, 'myself': 1, 'before': 1, 'gave': 1, 'her': 1}\n"
     ]
    }
   ],
   "source": [
    "text = \"\"\"\n",
    "Got this panda plush toy for my daughter's birthday,\n",
    "who loves it and takes it everywhere. It's soft and\n",
    "super cute, and its face has a friendly look. It's\n",
    "a bit small for what I paid though. I think there\n",
    "might be other options that are bigger for the\n",
    "same price. It arrived a day earlier than expected,\n",
    "so I got to play with it myself before I gave it\n",
    "to her.\n",
    "\"\"\"\n",
    "\n",
    "import re\n",
    "from collections import defaultdict\n",
    "\n",
    "def wordcount(text):\n",
    "    # 去掉标点符号\n",
    "    text = re.sub(r'[.!?]', '', text)\n",
    "    # 将所有单词转换大小写\n",
    "    words = text.lower().split()\n",
    "    # 使用defaultdict初始化一个字典统计每个单词出现的字数\n",
    "    word_count = defaultdict(int)\n",
    "    for word in words:\n",
    "        word_count[word] += 1\n",
    "    return dict(word_count)\n",
    "\n",
    "# 调用函数\n",
    "output = wordcount(text)\n",
    "print(output)"
   ]
  }
 ],
 "metadata": {
  "kernelspec": {
   "display_name": "Python 3",
   "language": "python",
   "name": "python3"
  },
  "language_info": {
   "codemirror_mode": {
    "name": "ipython",
    "version": 3
   },
   "file_extension": ".py",
   "mimetype": "text/x-python",
   "name": "python",
   "nbconvert_exporter": "python",
   "pygments_lexer": "ipython3",
   "version": "3.12.1"
  }
 },
 "nbformat": 4,
 "nbformat_minor": 2
}
